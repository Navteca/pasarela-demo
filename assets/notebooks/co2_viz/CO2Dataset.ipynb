{
 "cells": [
  {
   "cell_type": "markdown",
   "id": "11118f3a",
   "metadata": {},
   "source": [
    "# CO2 Emission Visualization\n"
   ]
  },
  {
   "cell_type": "code",
   "execution_count": null,
   "id": "73383ba6",
   "metadata": {},
   "outputs": [],
   "source": [
    "#Import libraries\n",
    "import pandas as pd\n",
    "import matplotlib.pyplot as plt\n",
    "import seaborn as sns\n",
    "import boto3\n",
    "from botocore import UNSIGNED\n",
    "from botocore.client import Config\n",
    "import io"
   ]
  },
  {
   "cell_type": "markdown",
   "id": "75ef4c05",
   "metadata": {},
   "source": [
    "Retrieve S3 bucket data"
   ]
  },
  {
   "cell_type": "code",
   "execution_count": null,
   "id": "a1433e6d",
   "metadata": {},
   "outputs": [],
   "source": [
    "client = boto3.client('s3', config=Config(signature_version=UNSIGNED))\n",
    "bytes_buffer = io.BytesIO()\n",
    "response = client.get_object(Bucket='pasarela-testing-data', Key=\"data/owid-co2-data.csv\")\n",
    "\n",
    "status = response.get(\"ResponseMetadata\", {}).get(\"HTTPStatusCode\")\n",
    "\n",
    "if status == 200:\n",
    "    print(f\"Successful S3 get_object response.\")\n",
    "    df1 = pd.read_csv(response.get(\"Body\"))\n",
    "    #data from the year 2020\n",
    "    df1= df1[df1['year'] == 2020]\n",
    "else:\n",
    "    print(f\"Unsuccessful S3 get_object response.\")"
   ]
  },
  {
   "cell_type": "markdown",
   "id": "e9178bde",
   "metadata": {},
   "source": [
    "Now, if you want to clean the data and work on your dataset only for a few countries then we will run the below query:"
   ]
  },
  {
   "cell_type": "code",
   "execution_count": null,
   "id": "22876d73",
   "metadata": {},
   "outputs": [],
   "source": [
    "df1 = df1[(df1['country'].isin(['United States','South Korea','Bangladesh','Canada','Germany','Brazil','Argentina','Japan','India','United Kingdom','Saudi Arabia',\n",
    "'China','Australia','Russia']) & (df1['co2'] > 0))]\n",
    "\n",
    "#removing all columns except 'country', 'year' and 'co2'\n",
    "columns_to_keep = ['country', 'year', 'co2']\n",
    "df1 = df1[[col for col in df1.columns if col in columns_to_keep]]\n",
    "\n",
    "df1.info(verbose = \"true\") "
   ]
  },
  {
   "cell_type": "markdown",
   "id": "bba5611b",
   "metadata": {},
   "source": [
    "We will draw the graph based on our dataset and analyze some results. First, we will draw the pie chart based on the country and Co2 column and see which country has the highest Co2 emission."
   ]
  },
  {
   "cell_type": "code",
   "execution_count": null,
   "id": "1d402137",
   "metadata": {},
   "outputs": [],
   "source": [
    "colors = sns.color_palette('pastel')\n",
    "fig, ax = plt.subplots(figsize=(10, 10))\n",
    "ax.pie(df1['co2'], labels= df1['country'], colors = colors,  autopct = '%0.0f%%', pctdistance = .9)\n",
    "plt.title(\"Global CO2 Emissions\")\n",
    "plt.show()\n",
    "%matplotlib inline"
   ]
  },
  {
   "cell_type": "markdown",
   "id": "61cb1d25",
   "metadata": {},
   "source": [
    "As we can see China is the topmost followed by the United States and then India and so on."
   ]
  },
  {
   "cell_type": "markdown",
   "id": "7f475c89",
   "metadata": {
    "tags": []
   },
   "source": [
    "# "
   ]
  }
 ],
 "metadata": {
  "kernelspec": {
   "display_name": "Python 3 (ipykernel)",
   "language": "python",
   "name": "python3"
  },
  "language_info": {
   "codemirror_mode": {
    "name": "ipython",
    "version": 3
   },
   "file_extension": ".py",
   "mimetype": "text/x-python",
   "name": "python",
   "nbconvert_exporter": "python",
   "pygments_lexer": "ipython3",
   "version": "3.10.6"
  }
 },
 "nbformat": 4,
 "nbformat_minor": 5
}
